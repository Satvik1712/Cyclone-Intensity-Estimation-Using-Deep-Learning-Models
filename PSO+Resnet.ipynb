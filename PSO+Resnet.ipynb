{
 "cells": [
  {
   "cell_type": "code",
   "execution_count": 1,
   "id": "732eb5ad-b086-40d2-ac66-176387653d74",
   "metadata": {},
   "outputs": [],
   "source": [
    "import os\n",
    "import numpy as np\n",
    "import cv2\n",
    "from pyswarm import pso"
   ]
  },
  {
   "cell_type": "code",
   "execution_count": 2,
   "id": "dbe1d871-acb5-4eea-ab8f-226306b4aa1c",
   "metadata": {},
   "outputs": [],
   "source": [
    "import os\n",
    "import numpy as np\n",
    "import cv2\n",
    "import pandas as pd\n",
    "from pyswarm import pso\n",
    "import torch\n",
    "import torch.nn as nn\n",
    "from torch.utils.data import DataLoader, TensorDataset\n",
    "from sklearn.model_selection import train_test_split\n",
    "from sklearn.metrics import mean_squared_error, mean_absolute_error, r2_score\n",
    "\n",
    "# --- Paths ---\n",
    "csv_path = \"D:/B.Tech/8th Sem/CI Lab/Project/Cylone_Intensity_IndianOcean/label.csv\"\n",
    "image_dir = \"D:/B.Tech/8th Sem/CI Lab/Project/Cylone_Intensity_IndianOcean/Infrared\""
   ]
  },
  {
   "cell_type": "code",
   "execution_count": 3,
   "id": "c3643394-debb-456a-9802-30ba362cc707",
   "metadata": {},
   "outputs": [
    {
     "name": "stdout",
     "output_type": "stream",
     "text": [
      "Total samples from CSV: 15101\n"
     ]
    }
   ],
   "source": [
    "# --- 1. Load CSV ---\n",
    "df = pd.read_csv(csv_path)\n",
    "df['filepath'] = df['Filename'].apply(lambda x: os.path.join(image_dir, x))\n",
    "print(f\"Total samples from CSV: {len(df)}\")"
   ]
  },
  {
   "cell_type": "code",
   "execution_count": 4,
   "id": "74059c47-a666-4466-bd3e-be46b704b6a6",
   "metadata": {},
   "outputs": [
    {
     "name": "stdout",
     "output_type": "stream",
     "text": [
      "Raw feature shape: (15101, 4096)\n",
      "Labels shape: (15101,)\n"
     ]
    }
   ],
   "source": [
    "# --- 2. Extract raw features from images ---\n",
    "def extract_image_features(image_path):\n",
    "    image = cv2.imread(image_path, cv2.IMREAD_GRAYSCALE)\n",
    "    image = cv2.resize(image, (64, 64)).astype(np.float32) / 255.0\n",
    "    return image.flatten()\n",
    "\n",
    "X = np.array([extract_image_features(p) for p in df['filepath']])\n",
    "y = df['Vmax'].values\n",
    "\n",
    "print(f\"Raw feature shape: {X.shape}\")  # (samples, features)\n",
    "print(f\"Labels shape: {y.shape}\")"
   ]
  },
  {
   "cell_type": "code",
   "execution_count": 5,
   "id": "a545f21f-18da-4363-aa8e-08d2a9a77580",
   "metadata": {},
   "outputs": [
    {
     "name": "stdout",
     "output_type": "stream",
     "text": [
      "Selected features count: 2141\n",
      "Feature shape after PSO selection: (15101, 2141)\n",
      "X_test: (2266, 2141), y_test: (2266,)\n",
      "X_val: (1926, 2141), y_val: (1926,)\n",
      "X_train: (10909, 2141), y_train: (10909,)\n"
     ]
    }
   ],
   "source": [
    "# --- 4. Load saved selected feature mask ---\n",
    "selected_mask = np.load(\"selected_features_mask.npy\")\n",
    "X_selected = X[:, selected_mask]\n",
    "print(f\"Selected features count: {np.sum(selected_mask)}\")\n",
    "print(f\"Feature shape after PSO selection: {X_selected.shape}\")\n",
    "\n",
    "# --- Train / Val / Test Split ---\n",
    "X_trainval, X_test, y_trainval, y_test = train_test_split(X_selected, y, test_size=0.15, random_state=42)\n",
    "X_train, X_val, y_train, y_val = train_test_split(X_trainval, y_trainval, test_size=0.15, random_state=42)\n",
    "\n",
    "# Print shapes to confirm\n",
    "print(f\"X_test: {X_test.shape}, y_test: {y_test.shape}\")\n",
    "print(f\"X_val: {X_val.shape}, y_val: {y_val.shape}\")\n",
    "print(f\"X_train: {X_train.shape}, y_train: {y_train.shape}\")"
   ]
  },
  {
   "cell_type": "code",
   "execution_count": 14,
   "id": "9f1d1e21-e5bd-422e-aee3-1bf7f590b4e6",
   "metadata": {},
   "outputs": [
    {
     "data": {
      "text/plain": [
       "(10909, 2141)"
      ]
     },
     "execution_count": 14,
     "metadata": {},
     "output_type": "execute_result"
    }
   ],
   "source": [
    "X_train.shape"
   ]
  },
  {
   "cell_type": "code",
   "execution_count": 6,
   "id": "ee4b13ea-bca2-4df5-882c-f8a7f9f57031",
   "metadata": {},
   "outputs": [],
   "source": [
    "# --- Convert to Tensors ---\n",
    "def to_loader(X, y):\n",
    "    X_tensor = torch.tensor(X, dtype=torch.float32)\n",
    "    y_tensor = torch.tensor(y, dtype=torch.float32).unsqueeze(1)\n",
    "    return DataLoader(TensorDataset(X_tensor, y_tensor), batch_size=32, shuffle=True)\n",
    "\n",
    "train_loader = to_loader(X_train, y_train)\n",
    "test_loader = to_loader(X_test, y_test)\n",
    "val_loader = to_loader(X_val, y_val)"
   ]
  },
  {
   "cell_type": "code",
   "execution_count": 7,
   "id": "893a2eb4-6daa-4f69-8c85-34049c265ce4",
   "metadata": {},
   "outputs": [],
   "source": [
    "import time\n",
    "import torch\n",
    "import torch.nn as nn\n",
    "import torch.nn.functional as F\n",
    "from torch.utils.data import DataLoader, TensorDataset\n",
    "from sklearn.metrics import mean_absolute_error, mean_squared_error, r2_score\n",
    "import matplotlib.pyplot as plt\n",
    "import numpy as np\n",
    "\n",
    "# ---------------- ResNet‑style MLP block ---------------- #\n",
    "class ResidualBlock(nn.Module):\n",
    "    def __init__(self, dim, dropout=0.1):\n",
    "        super().__init__()\n",
    "        self.fc1 = nn.Linear(dim, dim)\n",
    "        self.bn1 = nn.BatchNorm1d(dim)\n",
    "        self.fc2 = nn.Linear(dim, dim)\n",
    "        self.bn2 = nn.BatchNorm1d(dim)\n",
    "        self.dropout = nn.Dropout(dropout)\n",
    "\n",
    "    def forward(self, x):\n",
    "        identity = x\n",
    "        out = F.relu(self.bn1(self.fc1(x)))\n",
    "        out = self.dropout(out)\n",
    "        out = self.bn2(self.fc2(out))\n",
    "        out += identity                 # residual add\n",
    "        return F.relu(out)\n",
    "\n",
    "# ---------------- Full Model ---------------- #\n",
    "class ResNetRegressor(nn.Module):\n",
    "    def __init__(self, in_dim, hidden_dim=512, n_blocks=4, dropout=0.1):\n",
    "        super().__init__()\n",
    "        self.input_fc = nn.Linear(in_dim, hidden_dim)\n",
    "        self.blocks = nn.Sequential(\n",
    "            *[ResidualBlock(hidden_dim, dropout) for _ in range(n_blocks)]\n",
    "        )\n",
    "        self.output_fc = nn.Linear(hidden_dim, 1)\n",
    "\n",
    "    def forward(self, x):\n",
    "        x = F.relu(self.input_fc(x))\n",
    "        x = self.blocks(x)\n",
    "        return self.output_fc(x)\n",
    "\n",
    "# ---------------- Training utilities ---------------- #\n",
    "def train_epoch(model, loader, crit, opt):\n",
    "    model.train()\n",
    "    running_loss = 0\n",
    "    for xb, yb in loader:\n",
    "        opt.zero_grad()\n",
    "        pred = model(xb)\n",
    "        loss = crit(pred, yb)\n",
    "        loss.backward()\n",
    "        opt.step()\n",
    "        running_loss += loss.item() * xb.size(0)\n",
    "    return running_loss / len(loader.dataset)\n",
    "\n",
    "@torch.no_grad()\n",
    "def eval_epoch(model, loader, crit):\n",
    "    model.eval()\n",
    "    running_loss = 0\n",
    "    for xb, yb in loader:\n",
    "        pred = model(xb)\n",
    "        loss = crit(pred, yb)\n",
    "        running_loss += loss.item() * xb.size(0)\n",
    "    return running_loss / len(loader.dataset)\n",
    "\n",
    "# ---------------- Prepare loaders (reuse your to_loader) ---------------- #\n",
    "# train_loader, val_loader, test_loader already exist from your snippet\n",
    "\n",
    "# ---------------- Hyper‑parameters ---------------- #\n",
    "in_features = X_train.shape[1]\n",
    "model = ResNetRegressor(in_dim=in_features, hidden_dim=512, n_blocks=6, dropout=0.2)\n",
    "criterion = nn.MSELoss()\n",
    "optimizer = torch.optim.AdamW(model.parameters(), lr=1e-3, weight_decay=1e-4)\n",
    "epochs = 50\n",
    "\n",
    "train_losses, val_losses = [], []"
   ]
  },
  {
   "cell_type": "code",
   "execution_count": 15,
   "id": "594a5ffe-53fd-4855-a73c-94f1992fa468",
   "metadata": {},
   "outputs": [
    {
     "ename": "AttributeError",
     "evalue": "'DataLoader' object has no attribute 'shape'",
     "output_type": "error",
     "traceback": [
      "\u001b[1;31m---------------------------------------------------------------------------\u001b[0m",
      "\u001b[1;31mAttributeError\u001b[0m                            Traceback (most recent call last)",
      "Cell \u001b[1;32mIn[15], line 1\u001b[0m\n\u001b[1;32m----> 1\u001b[0m \u001b[43mtrain_loader\u001b[49m\u001b[38;5;241;43m.\u001b[39;49m\u001b[43mshape\u001b[49m\n",
      "\u001b[1;31mAttributeError\u001b[0m: 'DataLoader' object has no attribute 'shape'"
     ]
    }
   ],
   "source": [
    "train_loader.shape\n"
   ]
  },
  {
   "cell_type": "code",
   "execution_count": 8,
   "id": "3eb8cc8e-566b-4e55-8c29-a26c533a54d9",
   "metadata": {},
   "outputs": [
    {
     "name": "stdout",
     "output_type": "stream",
     "text": [
      "Epoch 001/50 | train MSE: 767.1376 | val MSE: 1148.4326 | time: 767.6s\n",
      "Epoch 002/50 | train MSE: 618.8123 | val MSE: 615.1009 | time: 55.5s\n",
      "Epoch 003/50 | train MSE: 586.5869 | val MSE: 579.0766 | time: 50.7s\n",
      "Epoch 004/50 | train MSE: 576.6300 | val MSE: 517.5595 | time: 41.8s\n",
      "Epoch 005/50 | train MSE: 537.3572 | val MSE: 889.5443 | time: 50.3s\n",
      "Epoch 006/50 | train MSE: 515.2414 | val MSE: 720.2906 | time: 48.0s\n",
      "Epoch 007/50 | train MSE: 499.7390 | val MSE: 758.6344 | time: 19.1s\n",
      "Epoch 008/50 | train MSE: 477.7647 | val MSE: 1142.2070 | time: 27.8s\n",
      "Epoch 009/50 | train MSE: 456.7744 | val MSE: 853.0214 | time: 135.2s\n",
      "Epoch 010/50 | train MSE: 454.1933 | val MSE: 714.0079 | time: 942.9s\n",
      "Epoch 011/50 | train MSE: 426.0318 | val MSE: 469.6753 | time: 56.4s\n",
      "Epoch 012/50 | train MSE: 420.6361 | val MSE: 807.7935 | time: 32.6s\n",
      "Epoch 013/50 | train MSE: 404.8323 | val MSE: 1012.1245 | time: 30.5s\n",
      "Epoch 014/50 | train MSE: 394.7710 | val MSE: 541.8700 | time: 31.2s\n",
      "Epoch 015/50 | train MSE: 381.2995 | val MSE: 820.2416 | time: 31.5s\n",
      "Epoch 016/50 | train MSE: 379.4616 | val MSE: 711.1375 | time: 27.9s\n",
      "Epoch 017/50 | train MSE: 378.1950 | val MSE: 645.1425 | time: 26.8s\n",
      "Epoch 018/50 | train MSE: 364.2112 | val MSE: 582.3162 | time: 25.8s\n",
      "Epoch 019/50 | train MSE: 355.0298 | val MSE: 720.8363 | time: 26.8s\n",
      "Epoch 020/50 | train MSE: 358.3692 | val MSE: 1614.0562 | time: 25.4s\n",
      "Epoch 021/50 | train MSE: 352.7953 | val MSE: 1828.7726 | time: 522.8s\n",
      "Epoch 022/50 | train MSE: 342.9719 | val MSE: 490.3972 | time: 609.8s\n",
      "Epoch 023/50 | train MSE: 321.3902 | val MSE: 1170.4683 | time: 61.1s\n",
      "Epoch 024/50 | train MSE: 318.4744 | val MSE: 1139.2884 | time: 36.5s\n",
      "Epoch 025/50 | train MSE: 316.8204 | val MSE: 569.9790 | time: 248.5s\n",
      "Epoch 026/50 | train MSE: 298.5162 | val MSE: 525.0373 | time: 62.8s\n",
      "Epoch 027/50 | train MSE: 286.0543 | val MSE: 550.8266 | time: 882.0s\n",
      "Epoch 028/50 | train MSE: 283.1357 | val MSE: 489.7970 | time: 522.3s\n",
      "Epoch 029/50 | train MSE: 273.6856 | val MSE: 827.0450 | time: 809.3s\n",
      "Epoch 030/50 | train MSE: 267.1194 | val MSE: 965.3770 | time: 1437.6s\n",
      "Epoch 031/50 | train MSE: 265.9281 | val MSE: 743.4897 | time: 247.2s\n",
      "Epoch 032/50 | train MSE: 254.9526 | val MSE: 511.9847 | time: 30.7s\n",
      "Epoch 033/50 | train MSE: 252.9779 | val MSE: 622.3091 | time: 465.3s\n",
      "Epoch 034/50 | train MSE: 248.6509 | val MSE: 646.9616 | time: 377.6s\n",
      "Epoch 035/50 | train MSE: 238.3351 | val MSE: 659.6109 | time: 81.3s\n",
      "Epoch 036/50 | train MSE: 229.4743 | val MSE: 598.5143 | time: 184.1s\n",
      "Epoch 037/50 | train MSE: 226.1028 | val MSE: 1074.3775 | time: 1075.8s\n",
      "Epoch 038/50 | train MSE: 226.6337 | val MSE: 574.0732 | time: 582.0s\n",
      "Epoch 039/50 | train MSE: 222.3236 | val MSE: 518.8981 | time: 661.9s\n",
      "Epoch 040/50 | train MSE: 215.1943 | val MSE: 702.4012 | time: 63.8s\n",
      "Epoch 041/50 | train MSE: 207.3823 | val MSE: 806.4656 | time: 31.4s\n",
      "Epoch 042/50 | train MSE: 204.6100 | val MSE: 907.3175 | time: 37.2s\n",
      "Epoch 043/50 | train MSE: 202.8252 | val MSE: 556.2326 | time: 40.6s\n",
      "Epoch 044/50 | train MSE: 193.0096 | val MSE: 675.0339 | time: 64.6s\n",
      "Epoch 045/50 | train MSE: 191.7345 | val MSE: 785.0363 | time: 61.5s\n",
      "Epoch 046/50 | train MSE: 190.0707 | val MSE: 506.7473 | time: 48.9s\n",
      "Epoch 047/50 | train MSE: 181.5410 | val MSE: 786.6608 | time: 38.5s\n",
      "Epoch 048/50 | train MSE: 180.1157 | val MSE: 694.2296 | time: 37.4s\n",
      "Epoch 049/50 | train MSE: 172.8587 | val MSE: 634.4131 | time: 45.4s\n",
      "Epoch 050/50 | train MSE: 169.2520 | val MSE: 750.7278 | time: 47.1s\n"
     ]
    }
   ],
   "source": [
    "# ---------------- Training loop ---------------- #\n",
    "for epoch in range(1, epochs + 1):\n",
    "    t0 = time.time()\n",
    "    tr_loss = train_epoch(model, train_loader, criterion, optimizer)\n",
    "    vl_loss = eval_epoch(model, val_loader, criterion)\n",
    "    dt = time.time() - t0\n",
    "    train_losses.append(tr_loss)\n",
    "    val_losses.append(vl_loss)\n",
    "    print(f\"Epoch {epoch:03d}/{epochs} | \"\n",
    "          f\"train MSE: {tr_loss:.4f} | val MSE: {vl_loss:.4f} | time: {dt:.1f}s\")"
   ]
  },
  {
   "cell_type": "code",
   "execution_count": 9,
   "id": "9d42cd85-24c5-4d11-8c0d-b2f9281523db",
   "metadata": {},
   "outputs": [
    {
     "name": "stdout",
     "output_type": "stream",
     "text": [
      "\n",
      "--- Final evaluation ---\n",
      "Train | MAE: 15.608 | MSE: 503.393 | R²: 0.575\n",
      "  Val | MAE: 19.938 | MSE: 750.728 | R²: 0.378\n",
      " Test | MAE: 20.853 | MSE: 804.218 | R²: 0.318\n"
     ]
    },
    {
     "data": {
      "text/plain": [
       "(20.853018, 804.2184, 0.3178338417549721)"
      ]
     },
     "execution_count": 9,
     "metadata": {},
     "output_type": "execute_result"
    }
   ],
   "source": [
    "# ---------------- Metrics on all splits ---------------- #\n",
    "def get_metrics(loader, name):\n",
    "    y_true, y_pred = [], []\n",
    "    with torch.no_grad():\n",
    "        for xb, yb in loader:\n",
    "            y_true.append(yb.numpy())\n",
    "            y_pred.append(model(xb).numpy())\n",
    "    y_true = np.vstack(y_true)\n",
    "    y_pred = np.vstack(y_pred)\n",
    "    mae = mean_absolute_error(y_true, y_pred)\n",
    "    mse = mean_squared_error(y_true, y_pred)\n",
    "    r2  = r2_score(y_true, y_pred)\n",
    "    print(f\"{name:>5} | MAE: {mae:.3f} | MSE: {mse:.3f} | R²: {r2:.3f}\")\n",
    "    return mae, mse, r2\n",
    "    \n",
    "print(\"\\n--- Final evaluation ---\")\n",
    "get_metrics(train_loader, \"Train\")\n",
    "get_metrics(val_loader,   \"Val\")\n",
    "get_metrics(test_loader,  \"Test\")"
   ]
  },
  {
   "cell_type": "code",
   "execution_count": 10,
   "id": "893ff896-527d-45c1-b9f7-9a7cb15c9b7c",
   "metadata": {},
   "outputs": [
    {
     "data": {
      "image/png": "[encoded data removed]",
      "text/plain": [
       "<Figure size 640x480 with 1 Axes>"
      ]
     },
     "metadata": {},
     "output_type": "display_data"
    },
    {
     "name": "stdout",
     "output_type": "stream",
     "text": [
      "Model weights saved to resnet_regressor_state_dict.pt\n"
     ]
    }
   ],
   "source": [
    "\n",
    "# ---------------- Plot loss curves ---------------- #\n",
    "plt.figure()\n",
    "plt.plot(train_losses, label=\"train\")\n",
    "plt.plot(val_losses,   label=\"val\")\n",
    "plt.xlabel(\"Epoch\")\n",
    "plt.ylabel(\"MSE loss\")\n",
    "plt.legend()\n",
    "plt.title(\"Training / Validation loss\")\n",
    "plt.tight_layout()\n",
    "plt.show()\n",
    "\n",
    "# ---------------- Save model ---------------- #\n",
    "torch.save(model.state_dict(), \"resnet_regressor_state_dict.pt\")\n",
    "print(\"Model weights saved to resnet_regressor_state_dict.pt\")"
   ]
  },
  {
   "cell_type": "code",
   "execution_count": 13,
   "id": "77ceaadd-5ce0-4edf-9e35-932859bcb7d5",
   "metadata": {},
   "outputs": [
    {
     "name": "stderr",
     "output_type": "stream",
     "text": [
      "C:\\Users\\satvi\\AppData\\Local\\Temp\\ipykernel_17452\\1529918433.py:9: FutureWarning: You are using `torch.load` with `weights_only=False` (the current default value), which uses the default pickle module implicitly. It is possible to construct malicious pickle data which will execute arbitrary code during unpickling (See https://github.com/pytorch/pytorch/blob/main/SECURITY.md#untrusted-models for more details). In a future release, the default value for `weights_only` will be flipped to `True`. This limits the functions that could be executed during unpickling. Arbitrary objects will no longer be allowed to be loaded via this mode unless they are explicitly allowlisted by the user via `torch.serialization.add_safe_globals`. We recommend you start setting `weights_only=True` for any use case where you don't have full control of the loaded file. Please open an issue on GitHub for any issues related to this experimental feature.\n",
      "  model.load_state_dict(torch.load(\"resnet_regressor_state_dict.pt\"))\n"
     ]
    },
    {
     "ename": "RuntimeError",
     "evalue": "Error(s) in loading state_dict for ResNetRegressor:\n\tUnexpected key(s) in state_dict: \"blocks.4.fc1.weight\", \"blocks.4.fc1.bias\", \"blocks.4.bn1.weight\", \"blocks.4.bn1.bias\", \"blocks.4.bn1.running_mean\", \"blocks.4.bn1.running_var\", \"blocks.4.bn1.num_batches_tracked\", \"blocks.4.fc2.weight\", \"blocks.4.fc2.bias\", \"blocks.4.bn2.weight\", \"blocks.4.bn2.bias\", \"blocks.4.bn2.running_mean\", \"blocks.4.bn2.running_var\", \"blocks.4.bn2.num_batches_tracked\", \"blocks.5.fc1.weight\", \"blocks.5.fc1.bias\", \"blocks.5.bn1.weight\", \"blocks.5.bn1.bias\", \"blocks.5.bn1.running_mean\", \"blocks.5.bn1.running_var\", \"blocks.5.bn1.num_batches_tracked\", \"blocks.5.fc2.weight\", \"blocks.5.fc2.bias\", \"blocks.5.bn2.weight\", \"blocks.5.bn2.bias\", \"blocks.5.bn2.running_mean\", \"blocks.5.bn2.running_var\", \"blocks.5.bn2.num_batches_tracked\". ",
     "output_type": "error",
     "traceback": [
      "\u001b[1;31m---------------------------------------------------------------------------\u001b[0m",
      "\u001b[1;31mRuntimeError\u001b[0m                              Traceback (most recent call last)",
      "Cell \u001b[1;32mIn[13], line 9\u001b[0m\n\u001b[0;32m      7\u001b[0m in_features \u001b[38;5;241m=\u001b[39m X_selected\u001b[38;5;241m.\u001b[39mshape[\u001b[38;5;241m1\u001b[39m]           \u001b[38;5;66;03m# same input dimensionality\u001b[39;00m\n\u001b[0;32m      8\u001b[0m model \u001b[38;5;241m=\u001b[39m ResNetRegressor(in_dim\u001b[38;5;241m=\u001b[39min_features)\n\u001b[1;32m----> 9\u001b[0m \u001b[43mmodel\u001b[49m\u001b[38;5;241;43m.\u001b[39;49m\u001b[43mload_state_dict\u001b[49m\u001b[43m(\u001b[49m\u001b[43mtorch\u001b[49m\u001b[38;5;241;43m.\u001b[39;49m\u001b[43mload\u001b[49m\u001b[43m(\u001b[49m\u001b[38;5;124;43m\"\u001b[39;49m\u001b[38;5;124;43mresnet_regressor_state_dict.pt\u001b[39;49m\u001b[38;5;124;43m\"\u001b[39;49m\u001b[43m)\u001b[49m\u001b[43m)\u001b[49m\n\u001b[0;32m     10\u001b[0m model\u001b[38;5;241m.\u001b[39meval()\n\u001b[0;32m     12\u001b[0m \u001b[38;5;66;03m# ---------- 2.  Choose an image ----------\u001b[39;00m\n\u001b[0;32m     13\u001b[0m \u001b[38;5;66;03m# If you know the filename directly:\u001b[39;00m\n",
      "File \u001b[1;32m~\\AppData\\Local\\Programs\\Python\\Python310\\lib\\site-packages\\torch\\nn\\modules\\module.py:2584\u001b[0m, in \u001b[0;36mModule.load_state_dict\u001b[1;34m(self, state_dict, strict, assign)\u001b[0m\n\u001b[0;32m   2576\u001b[0m         error_msgs\u001b[38;5;241m.\u001b[39minsert(\n\u001b[0;32m   2577\u001b[0m             \u001b[38;5;241m0\u001b[39m,\n\u001b[0;32m   2578\u001b[0m             \u001b[38;5;124m\"\u001b[39m\u001b[38;5;124mMissing key(s) in state_dict: \u001b[39m\u001b[38;5;132;01m{}\u001b[39;00m\u001b[38;5;124m. \u001b[39m\u001b[38;5;124m\"\u001b[39m\u001b[38;5;241m.\u001b[39mformat(\n\u001b[0;32m   2579\u001b[0m                 \u001b[38;5;124m\"\u001b[39m\u001b[38;5;124m, \u001b[39m\u001b[38;5;124m\"\u001b[39m\u001b[38;5;241m.\u001b[39mjoin(\u001b[38;5;124mf\u001b[39m\u001b[38;5;124m'\u001b[39m\u001b[38;5;124m\"\u001b[39m\u001b[38;5;132;01m{\u001b[39;00mk\u001b[38;5;132;01m}\u001b[39;00m\u001b[38;5;124m\"\u001b[39m\u001b[38;5;124m'\u001b[39m \u001b[38;5;28;01mfor\u001b[39;00m k \u001b[38;5;129;01min\u001b[39;00m missing_keys)\n\u001b[0;32m   2580\u001b[0m             ),\n\u001b[0;32m   2581\u001b[0m         )\n\u001b[0;32m   2583\u001b[0m \u001b[38;5;28;01mif\u001b[39;00m \u001b[38;5;28mlen\u001b[39m(error_msgs) \u001b[38;5;241m>\u001b[39m \u001b[38;5;241m0\u001b[39m:\n\u001b[1;32m-> 2584\u001b[0m     \u001b[38;5;28;01mraise\u001b[39;00m \u001b[38;5;167;01mRuntimeError\u001b[39;00m(\n\u001b[0;32m   2585\u001b[0m         \u001b[38;5;124m\"\u001b[39m\u001b[38;5;124mError(s) in loading state_dict for \u001b[39m\u001b[38;5;132;01m{}\u001b[39;00m\u001b[38;5;124m:\u001b[39m\u001b[38;5;130;01m\\n\u001b[39;00m\u001b[38;5;130;01m\\t\u001b[39;00m\u001b[38;5;132;01m{}\u001b[39;00m\u001b[38;5;124m\"\u001b[39m\u001b[38;5;241m.\u001b[39mformat(\n\u001b[0;32m   2586\u001b[0m             \u001b[38;5;28mself\u001b[39m\u001b[38;5;241m.\u001b[39m\u001b[38;5;18m__class__\u001b[39m\u001b[38;5;241m.\u001b[39m\u001b[38;5;18m__name__\u001b[39m, \u001b[38;5;124m\"\u001b[39m\u001b[38;5;130;01m\\n\u001b[39;00m\u001b[38;5;130;01m\\t\u001b[39;00m\u001b[38;5;124m\"\u001b[39m\u001b[38;5;241m.\u001b[39mjoin(error_msgs)\n\u001b[0;32m   2587\u001b[0m         )\n\u001b[0;32m   2588\u001b[0m     )\n\u001b[0;32m   2589\u001b[0m \u001b[38;5;28;01mreturn\u001b[39;00m _IncompatibleKeys(missing_keys, unexpected_keys)\n",
      "\u001b[1;31mRuntimeError\u001b[0m: Error(s) in loading state_dict for ResNetRegressor:\n\tUnexpected key(s) in state_dict: \"blocks.4.fc1.weight\", \"blocks.4.fc1.bias\", \"blocks.4.bn1.weight\", \"blocks.4.bn1.bias\", \"blocks.4.bn1.running_mean\", \"blocks.4.bn1.running_var\", \"blocks.4.bn1.num_batches_tracked\", \"blocks.4.fc2.weight\", \"blocks.4.fc2.bias\", \"blocks.4.bn2.weight\", \"blocks.4.bn2.bias\", \"blocks.4.bn2.running_mean\", \"blocks.4.bn2.running_var\", \"blocks.4.bn2.num_batches_tracked\", \"blocks.5.fc1.weight\", \"blocks.5.fc1.bias\", \"blocks.5.bn1.weight\", \"blocks.5.bn1.bias\", \"blocks.5.bn1.running_mean\", \"blocks.5.bn1.running_var\", \"blocks.5.bn1.num_batches_tracked\", \"blocks.5.fc2.weight\", \"blocks.5.fc2.bias\", \"blocks.5.bn2.weight\", \"blocks.5.bn2.bias\", \"blocks.5.bn2.running_mean\", \"blocks.5.bn2.running_var\", \"blocks.5.bn2.num_batches_tracked\". "
     ]
    }
   ],
   "source": [
    "import matplotlib.pyplot as plt\n",
    "from PIL import Image\n",
    "import torchvision.transforms as T\n",
    "import torch\n",
    "\n",
    "# ---------- 1.  Reload model ----------\n",
    "in_features = X_selected.shape[1]           # same input dimensionality\n",
    "model = ResNetRegressor(in_dim=in_features)\n",
    "model.load_state_dict(torch.load(\"resnet_regressor_state_dict.pt\"))\n",
    "model.eval()\n",
    "\n",
    "# ---------- 2.  Choose an image ----------\n",
    "# If you know the filename directly:\n",
    "img_path = \"D:/B.Tech/8th Sem/CI Lab/Project/Cylone_Intensity_IndianOcean/Infrared/IN_1.png\"        # <-- put any test image path here\n",
    "\n",
    "# ...or pick by index in your dataframe:\n",
    "# idx = 10                                   # choose index inside X_test\n",
    "# img_path = df.iloc[idx][\"Filename\"]\n",
    "\n",
    "img = Image.open(img_path).convert(\"L\")     # IR images are single‑channel\n",
    "\n",
    "# ---------- 3.  Pre‑process / predict ----------\n",
    "# (Assuming you already have feature extraction → PSO mask code wrapped in a function.)\n",
    "def extract_pso_features(img_pil):\n",
    "    \"\"\"\n",
    "    Returns a 1D numpy array of length = all_features,\n",
    "    then masks it with selected_mask to match model input.\n",
    "    \"\"\"\n",
    "    # example basic transform – adapt to your pipeline!\n",
    "    transform = T.Compose([\n",
    "        T.Resize((64,64)),\n",
    "        T.ToTensor(),                       # (1,H,W) float32 in [0,1]\n",
    "    ])\n",
    "    feat = transform(img_pil).flatten().numpy()\n",
    "    return feat[selected_mask]              # shape (2141,)\n",
    "\n",
    "# feature vector for this image\n",
    "feat_vec = extract_pso_features(img)\n",
    "feat_tensor = torch.tensor(feat_vec, dtype=torch.float32).unsqueeze(0)  # (1,2141)\n",
    "\n",
    "with torch.no_grad():\n",
    "    vmax_pred = model(feat_tensor).item()\n",
    "\n",
    "# optional: get ground‑truth from your dataframe\n",
    "try:\n",
    "    true_vmax = df.loc[df[\"Filename\"] == img_path, \"Vmax\"].values[0]\n",
    "except Exception:\n",
    "    true_vmax = None\n",
    "\n",
    "# ---------- 4.  Display ----------\n",
    "plt.figure(figsize=(4,4))\n",
    "plt.imshow(img, cmap=\"gray\")\n",
    "title = f\"Predicted Vmax: {vmax_pred:.1f} kt\"\n",
    "if true_vmax is not None:\n",
    "    title += f\"\\nTrue Vmax: {true_vmax:.1f} kt\"\n",
    "plt.title(title)\n",
    "plt.axis(\"off\")\n",
    "plt.show()\n"
   ]
  },
  {
   "cell_type": "code",
   "execution_count": null,
   "id": "5301b22b-8d96-4fce-ba24-9b735b3fa173",
   "metadata": {},
   "outputs": [],
   "source": []
  }
 ],
 "metadata": {
  "kernelspec": {
   "display_name": "Python 3 (ipykernel)",
   "language": "python",
   "name": "python3"
  },
  "language_info": {
   "codemirror_mode": {
    "name": "ipython",
    "version": 3
   },
   "file_extension": ".py",
   "mimetype": "text/x-python",
   "name": "python",
   "nbconvert_exporter": "python",
   "pygments_lexer": "ipython3",
   "version": "3.10.5"
  }
 },
 "nbformat": 4,
 "nbformat_minor": 5
}
